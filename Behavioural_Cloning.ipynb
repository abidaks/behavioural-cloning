{
  "nbformat": 4,
  "nbformat_minor": 0,
  "metadata": {
    "kernelspec": {
      "name": "python3",
      "display_name": "Python 3"
    },
    "colab": {
      "name": "Behavioural Cloning.ipynb",
      "provenance": []
    },
    "accelerator": "GPU"
  },
  "cells": [
    {
      "cell_type": "code",
      "metadata": {
        "id": "DbsBo9yNFzei",
        "colab_type": "code",
        "colab": {}
      },
      "source": [
        "import numpy as np\n",
        "import matplotlib.pyplot as plt\n",
        "import matplotlib.image as mpimg\n",
        "import keras\n",
        "from keras.models import Sequential\n",
        "from keras.layers import Dense, Flatten, Dropout, Convolution2D, MaxPooling2D\n",
        "from keras.optimizers import Adam\n",
        "from keras.utils.np_utils import to_categorical\n",
        "from keras.preprocessing.image import ImageDataGenerator\n",
        "from sklearn.utils import shuffle\n",
        "from sklearn.model_selection import train_test_split\n",
        "from imgaug import augmenters as iaa\n",
        "import random\n",
        "import pickle\n",
        "import pandas as pd\n",
        "import cv2\n",
        "import os\n",
        "import ntpath"
      ],
      "execution_count": 0,
      "outputs": []
    },
    {
      "cell_type": "code",
      "metadata": {
        "id": "1mmCt2JVGFlf",
        "colab_type": "code",
        "colab": {}
      },
      "source": [
        "!git clone https://github.com/abidaks/track"
      ],
      "execution_count": 0,
      "outputs": []
    },
    {
      "cell_type": "code",
      "metadata": {
        "id": "XcbxKuA6Fzep",
        "colab_type": "code",
        "colab": {}
      },
      "source": [
        "datadir = 'track'\n",
        "columns = ['center', 'left', 'right', 'steering', 'throttle', 'reverse', 'speed']\n",
        "data = pd.read_csv(os.path.join(datadir, 'driving_log.csv'), names = columns)\n",
        "pd.set_option('display.max_colwidth', -1)\n",
        "data.head()\n"
      ],
      "execution_count": 0,
      "outputs": []
    },
    {
      "cell_type": "code",
      "metadata": {
        "id": "xEv6gYc7Fzeu",
        "colab_type": "code",
        "colab": {}
      },
      "source": [
        "def get_tail(path):\n",
        "    head, tail = ntpath.split(path)\n",
        "    return tail\n",
        "\n",
        "data['center'] = data['center'].apply(get_tail)\n",
        "data['left'] = data['left'].apply(get_tail)\n",
        "data['right'] = data['right'].apply(get_tail)\n",
        "\n",
        "data.head()"
      ],
      "execution_count": 0,
      "outputs": []
    },
    {
      "cell_type": "code",
      "metadata": {
        "id": "PewsjEZaFzey",
        "colab_type": "code",
        "colab": {}
      },
      "source": [
        "num_bins = 25;\n",
        "samples_per_bin = 400\n",
        "hist, bins = np.histogram(data['steering'], num_bins)\n",
        "center = (bins[:-1] + bins[1:]) * 0.5\n",
        "plt.bar(center, hist, width=0.05)\n",
        "plt.plot((np.min(data['steering']), np.max(data['steering'])), (samples_per_bin, samples_per_bin))"
      ],
      "execution_count": 0,
      "outputs": []
    },
    {
      "cell_type": "code",
      "metadata": {
        "id": "1fMrlq-2Fze3",
        "colab_type": "code",
        "colab": {}
      },
      "source": [
        "remove_list = []\n",
        "for j in range(num_bins):\n",
        "    list_ = []\n",
        "    for i in range(len(data)):\n",
        "        if data['steering'][i] >= bins[j] and data['steering'][i] <= bins[j+1]:\n",
        "            list_.append(i)\n",
        "    list_ = shuffle(list_)\n",
        "    list_ = list_[samples_per_bin:]\n",
        "    remove_list.extend(list_)\n",
        "    \n",
        "print(\"total data:\", len(data))\n",
        "print(\"removed:\",len(remove_list))\n",
        "data.drop(data.index[remove_list], inplace=True)\n",
        "print(\"left data:\", len(data))\n",
        "\n",
        "hist, _ = np.histogram(data['steering'], num_bins)\n",
        "plt.bar(center, hist, width=0.05)"
      ],
      "execution_count": 0,
      "outputs": []
    },
    {
      "cell_type": "code",
      "metadata": {
        "id": "Uzs-kHxxFze_",
        "colab_type": "code",
        "colab": {}
      },
      "source": [
        "def load_img_data(datadir, df):\n",
        "    image_paths = []\n",
        "    steering = []\n",
        "    for i in range(len(df)):\n",
        "        indexed_data = df.iloc[i]\n",
        "        center, left, right = indexed_data[0], indexed_data[1], indexed_data[2]\n",
        "        image_paths.append(os.path.join(datadir, center.strip()))\n",
        "        steering.append(float(indexed_data[3]))\n",
        "    image_paths = np.asarray(image_paths)\n",
        "    steering = np.asarray(steering)\n",
        "    return image_paths, steering\n"
      ],
      "execution_count": 0,
      "outputs": []
    },
    {
      "cell_type": "code",
      "metadata": {
        "id": "U-efBAkDFzfG",
        "colab_type": "code",
        "colab": {}
      },
      "source": [
        "image_paths, steering = load_img_data(datadir + '/IMG', data)\n",
        "\n",
        "x_train, x_valid, y_train, y_valid = train_test_split(image_paths, steering, test_size=0.2, random_state=6)\n",
        "print(\"training data:\", len(x_train))\n",
        "print(\"validation data:\", len(x_valid))"
      ],
      "execution_count": 0,
      "outputs": []
    },
    {
      "cell_type": "code",
      "metadata": {
        "id": "PuO367bhFzfK",
        "colab_type": "code",
        "colab": {}
      },
      "source": [
        "fig, axis = plt.subplots(1, 2, figsize=(12, 4))\n",
        "axis[0].hist(y_train, bins=num_bins, width=0.05, color='blue')\n",
        "axis[0].set_title('Training set')\n",
        "axis[1].hist(y_valid, bins=num_bins, width=0.05, color='red')\n",
        "axis[1].set_title('validation set')"
      ],
      "execution_count": 0,
      "outputs": []
    },
    {
      "cell_type": "code",
      "metadata": {
        "id": "8-V3y5IEwFhq",
        "colab_type": "code",
        "colab": {}
      },
      "source": [
        "def zoom_img(img):\n",
        "  zoom = iaa.Affine(scale=(1, 1.3))\n",
        "  img = zoom.augment_image(img)\n",
        "  return img"
      ],
      "execution_count": 0,
      "outputs": []
    },
    {
      "cell_type": "code",
      "metadata": {
        "id": "yeo0Epf7wsv1",
        "colab_type": "code",
        "colab": {}
      },
      "source": [
        "original_img = mpimg.imread(image_paths[100])\n",
        "z_img = zoom_img(original_img)\n",
        "\n",
        "fig, axis = plt.subplots(1, 2, figsize=(15, 10))\n",
        "fig.tight_layout()\n",
        "axis[0].imshow(original_img)\n",
        "axis[0].set_title('original image')\n",
        "axis[1].imshow(z_img)\n",
        "axis[1].set_title('zoom image')"
      ],
      "execution_count": 0,
      "outputs": []
    },
    {
      "cell_type": "code",
      "metadata": {
        "id": "BwE2vh75x0DS",
        "colab_type": "code",
        "colab": {}
      },
      "source": [
        "def pan_img(img):\n",
        "  pan = iaa.Affine(translate_percent = {'x': (-0.1, 0.1), 'y': (-0.1, 0.1)})\n",
        "  img = pan.augment_image(img)\n",
        "  return img"
      ],
      "execution_count": 0,
      "outputs": []
    },
    {
      "cell_type": "code",
      "metadata": {
        "id": "NzBTxAF2ylCa",
        "colab_type": "code",
        "colab": {}
      },
      "source": [
        "original_img = mpimg.imread(image_paths[100])\n",
        "p_img = pan_img(original_img)\n",
        "\n",
        "fig, axis = plt.subplots(1, 2, figsize=(15, 10))\n",
        "fig.tight_layout()\n",
        "axis[0].imshow(original_img)\n",
        "axis[0].set_title('original image')\n",
        "axis[1].imshow(p_img)\n",
        "axis[1].set_title('pan image')"
      ],
      "execution_count": 0,
      "outputs": []
    },
    {
      "cell_type": "code",
      "metadata": {
        "id": "PVInrFLfzM6J",
        "colab_type": "code",
        "colab": {}
      },
      "source": [
        "def random_brightness(img):\n",
        "  bright = iaa.Multiply((0.2, 1.2))\n",
        "  img = bright.augment_image(img)\n",
        "  return img"
      ],
      "execution_count": 0,
      "outputs": []
    },
    {
      "cell_type": "code",
      "metadata": {
        "id": "bdwmavdSzuzU",
        "colab_type": "code",
        "colab": {}
      },
      "source": [
        "original_img = mpimg.imread(image_paths[100])\n",
        "b_img = random_brightness(original_img)\n",
        "\n",
        "fig, axis = plt.subplots(1, 2, figsize=(15, 10))\n",
        "fig.tight_layout()\n",
        "axis[0].imshow(original_img)\n",
        "axis[0].set_title('original image')\n",
        "axis[1].imshow(b_img)\n",
        "axis[1].set_title('bright image')"
      ],
      "execution_count": 0,
      "outputs": []
    },
    {
      "cell_type": "code",
      "metadata": {
        "id": "NIrXxEOjz9UM",
        "colab_type": "code",
        "colab": {}
      },
      "source": [
        "def flipping(img, steering_angle):\n",
        "  img = cv2.flip(img, 1)\n",
        "  steering_angle = -steering_angle\n",
        "  return img, steering_angle"
      ],
      "execution_count": 0,
      "outputs": []
    },
    {
      "cell_type": "code",
      "metadata": {
        "id": "WzwPEPwn0r8f",
        "colab_type": "code",
        "colab": {}
      },
      "source": [
        "original_img = mpimg.imread(image_paths[100])\n",
        "steering_angle = steering[100]\n",
        "fl_img, steering_angle = flipping(original_img, steering_angle)\n",
        "\n",
        "fig, axis = plt.subplots(1, 2, figsize=(15, 10))\n",
        "fig.tight_layout()\n",
        "axis[0].imshow(original_img)\n",
        "axis[0].set_title('original image')\n",
        "axis[1].imshow(fl_img)\n",
        "axis[1].set_title('flipped image')"
      ],
      "execution_count": 0,
      "outputs": []
    },
    {
      "cell_type": "code",
      "metadata": {
        "id": "HfAndvLg2FiA",
        "colab_type": "code",
        "colab": {}
      },
      "source": [
        "def augment_image(img, steering_angle):\n",
        "  img = mpimg.imread(img)\n",
        "  if np.random.rand() < 0.5:\n",
        "    img = zoom_img(img)\n",
        "  if np.random.rand() < 0.5:\n",
        "    img = pan_img(img)\n",
        "  if np.random.rand() < 0.5:\n",
        "    img = random_brightness(img)\n",
        "  if np.random.rand() < 0.5:\n",
        "    img, steering_angle = flipping(img, steering_angle)\n",
        "  \n",
        "  return img, steering_angle"
      ],
      "execution_count": 0,
      "outputs": []
    },
    {
      "cell_type": "code",
      "metadata": {
        "id": "bBhM-88k29-4",
        "colab_type": "code",
        "colab": {}
      },
      "source": [
        "fig, axis = plt.subplots(10, 2, figsize=(15, 50))\n",
        "fig.tight_layout()\n",
        "for i in range(10):\n",
        "  random_i = random.randint(0, len(image_paths) - 1)\n",
        "  random_img = image_paths[random_i]\n",
        "  random_steering = steering[random_i]\n",
        "  original_img = mpimg.imread(random_img)\n",
        "  aug_img, random_steering = augment_image(random_img, random_steering)\n",
        "  \n",
        "  axis[i][0].imshow(original_img)\n",
        "  axis[i][0].set_title('original image')\n",
        "  axis[i][1].imshow(aug_img)\n",
        "  axis[i][1].set_title('aug image' + str(random_steering))"
      ],
      "execution_count": 0,
      "outputs": []
    },
    {
      "cell_type": "code",
      "metadata": {
        "id": "K-cAUapGFzfP",
        "colab_type": "code",
        "colab": {}
      },
      "source": [
        "def preprocess_img(img):\n",
        "    img = img[60:135, :, :]\n",
        "    img = cv2.cvtColor(img, cv2.COLOR_RGB2YUV)\n",
        "    img = cv2.GaussianBlur(img, (3,3), 0)\n",
        "    img = cv2.resize(img, (200,66))\n",
        "    img = img/255\n",
        "    return img"
      ],
      "execution_count": 0,
      "outputs": []
    },
    {
      "cell_type": "code",
      "metadata": {
        "scrolled": true,
        "id": "j5OyQ1_bFzfT",
        "colab_type": "code",
        "colab": {}
      },
      "source": [
        "original_img = mpimg.imread(image_paths[100])\n",
        "prep_img = preprocess_img(original_img)\n",
        "\n",
        "fig, axis = plt.subplots(1, 2, figsize=(15, 10))\n",
        "fig.tight_layout()\n",
        "axis[0].imshow(original_img)\n",
        "axis[0].set_title('original image')\n",
        "axis[1].imshow(prep_img)\n",
        "axis[1].set_title('preprocess image')"
      ],
      "execution_count": 0,
      "outputs": []
    },
    {
      "cell_type": "code",
      "metadata": {
        "id": "aNKiAS1i9Z1p",
        "colab_type": "code",
        "colab": {}
      },
      "source": [
        "def batch_generator(image_paths, steering_angles, batch_size, is_training):\n",
        "  \n",
        "  while True:\n",
        "    batch_img = []\n",
        "    batch_steering = []\n",
        "    for i in range(batch_size):\n",
        "      random_index = random.randint(0, len(image_paths) - 1)\n",
        "      if is_training:\n",
        "        im, steering = augment_image(image_paths[random_index], steering_angles[random_index])\n",
        "      else:\n",
        "        im = mpimg.imread(image_paths[random_index])\n",
        "        steering = steering_angles[random_index]\n",
        "      im = preprocess_img(im)\n",
        "      batch_img.append(im)\n",
        "      batch_steering.append(steering)\n",
        "    yield(np.asarray(batch_img), np.asarray(batch_steering))"
      ],
      "execution_count": 0,
      "outputs": []
    },
    {
      "cell_type": "code",
      "metadata": {
        "id": "QFPsxh98Fzfi",
        "colab_type": "code",
        "colab": {}
      },
      "source": [
        "def nvidia_model():\n",
        "    model = Sequential()\n",
        "    model.add(Convolution2D(24, (5, 5), strides=(2,2), input_shape=(66,200,3), activation=\"elu\"))\n",
        "    model.add(Convolution2D(36, (5, 5), strides=(2,2), activation=\"elu\"))\n",
        "    model.add(Convolution2D(48, (5, 5), strides=(2,2), activation=\"elu\"))\n",
        "    model.add(Convolution2D(64, (3, 3), activation=\"elu\"))\n",
        "    model.add(Convolution2D(64, (3, 3), activation=\"elu\"))\n",
        "    #model.add(Dropout(0.5))\n",
        "    \n",
        "    model.add(Flatten())\n",
        "    \n",
        "    model.add(Dense(100, activation=\"elu\"))\n",
        "    #model.add(Dropout(0.5))\n",
        "    model.add(Dense(50, activation=\"elu\"))\n",
        "    #model.add(Dropout(0.5))\n",
        "    model.add(Dense(10, activation=\"elu\"))\n",
        "    #model.add(Dropout(0.5))\n",
        "    model.add(Dense(1))\n",
        "    model.compile(optimizer=Adam(lr=1e-4), loss='mse', metrics=['accuracy'])\n",
        "    return model"
      ],
      "execution_count": 0,
      "outputs": []
    },
    {
      "cell_type": "code",
      "metadata": {
        "id": "0E_5aw6nFzfm",
        "colab_type": "code",
        "colab": {}
      },
      "source": [
        "model = nvidia_model()\n",
        "print(model.summary())"
      ],
      "execution_count": 0,
      "outputs": []
    },
    {
      "cell_type": "code",
      "metadata": {
        "id": "GzM6349WFzfq",
        "colab_type": "code",
        "colab": {}
      },
      "source": [
        "history = model.fit_generator(batch_generator(x_train, y_train, 100, 1), steps_per_epoch=300, epochs=10, \n",
        "                              validation_data=batch_generator(x_valid, y_valid, 100, 0), validation_steps=200,\n",
        "                              verbose=1, shuffle=1)"
      ],
      "execution_count": 0,
      "outputs": []
    },
    {
      "cell_type": "code",
      "metadata": {
        "id": "Zj0bRPr7HtR3",
        "colab_type": "code",
        "colab": {}
      },
      "source": [
        "plt.plot(history.history['loss'])\n",
        "plt.plot(history.history['val_loss'])\n",
        "plt.legend(['loss', 'val_loss'])\n",
        "plt.ylabel('loss')\n",
        "plt.xlabel('epoch')"
      ],
      "execution_count": 0,
      "outputs": []
    },
    {
      "cell_type": "code",
      "metadata": {
        "id": "nArhTZfuH0Zy",
        "colab_type": "code",
        "colab": {}
      },
      "source": [
        "plt.plot(history.history['acc'])\n",
        "plt.plot(history.history['val_acc'])\n",
        "plt.legend(['accuracy', 'val_accuracy'])\n",
        "plt.ylabel('accuracy')\n",
        "plt.xlabel('epoch')"
      ],
      "execution_count": 0,
      "outputs": []
    },
    {
      "cell_type": "code",
      "metadata": {
        "id": "7pTivVo-RaXl",
        "colab_type": "code",
        "colab": {}
      },
      "source": [
        "model.save('model.h5')"
      ],
      "execution_count": 0,
      "outputs": []
    },
    {
      "cell_type": "code",
      "metadata": {
        "id": "b2Rffv7FRf5n",
        "colab_type": "code",
        "colab": {}
      },
      "source": [
        "from google.colab import files\n",
        "files.download('model.h5')"
      ],
      "execution_count": 0,
      "outputs": []
    }
  ]
}